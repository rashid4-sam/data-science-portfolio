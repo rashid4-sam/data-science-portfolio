{
  "nbformat": 4,
  "nbformat_minor": 0,
  "metadata": {
    "colab": {
      "provenance": []
    },
    "kernelspec": {
      "name": "python3",
      "display_name": "Python 3"
    },
    "language_info": {
      "name": "python"
    }
  },
  "cells": [
    {
      "cell_type": "code",
      "execution_count": null,
      "metadata": {
        "id": "Lnodn8d2B6I3"
      },
      "outputs": [],
      "source": [
        "import pandas as pd\n",
        "import numpy as np\n",
        "import matplotlib.pyplot as plt\n",
        "from sklearn.model_selection import train_test_split\n",
        "from sklearn.tree import DecisionTreeClassifier\n",
        "from sklearn.metrics import accuracy_score\n",
        "from sklearn.ensemble import RandomForestClassifier\n",
        "from sklearn.ensemble import BaggingClassifier\n",
        "from sklearn.svm import SVC\n",
        "from sklearn.datasets import make_classification"
      ]
    },
    {
      "cell_type": "code",
      "source": [
        "X, y = make_classification(n_samples=10000, n_features=10,\n",
        "                           n_informative=3,\n",
        "                           random_state=42)\n"
      ],
      "metadata": {
        "id": "xXjncgAgCqM3"
      },
      "execution_count": null,
      "outputs": []
    },
    {
      "cell_type": "code",
      "source": [
        "X_train, X_test, y_train, y_test = train_test_split(X, y, test_size=0.2, random_state=42)"
      ],
      "metadata": {
        "id": "3d6ht-tTDFda"
      },
      "execution_count": null,
      "outputs": []
    },
    {
      "cell_type": "code",
      "source": [
        "# from sklearn.preprocessing import StandardScaler\n",
        "# scaler = StandardScaler()\n",
        "# X_train_sc = scaler.fit_transform(X_train)\n",
        "# X_test_sc = scaler.transform(X_test)"
      ],
      "metadata": {
        "id": "NfZsA381DIv3"
      },
      "execution_count": null,
      "outputs": []
    },
    {
      "cell_type": "code",
      "source": [
        "model_dt = DecisionTreeClassifier()\n",
        "model_dt.fit(X_train, y_train)\n",
        "y_pred_dt = model_dt.predict(X_test)\n",
        "score_dt = accuracy_score(y_test, y_pred_dt)\n",
        "print(\"Accuracy Score Of Desicion Tree is : \",round((score_dt)*100,2))"
      ],
      "metadata": {
        "colab": {
          "base_uri": "https://localhost:8080/"
        },
        "id": "SRBrujhfDjHJ",
        "outputId": "7c826f17-085c-4258-d5ab-e0401bfcb5f8"
      },
      "execution_count": null,
      "outputs": [
        {
          "output_type": "stream",
          "name": "stdout",
          "text": [
            "Accuracy Score Of Desicion Tree is :  92.65\n"
          ]
        }
      ]
    },
    {
      "cell_type": "code",
      "source": [
        "Bagging = BaggingClassifier(estimator=DecisionTreeClassifier(), n_estimators=500, random_state=42,bootstrap=True,max_samples=0.5)\n",
        "Bagging.fit(X_train, y_train)\n",
        "\n",
        "y_pred_bagging = Bagging.predict(X_test)\n",
        "score_bagging = accuracy_score(y_test, y_pred_bagging)\n",
        "print(\"Accuracy Score Of Bagging(dt) is : \",round((score_bagging)*100,2))\n"
      ],
      "metadata": {
        "colab": {
          "base_uri": "https://localhost:8080/"
        },
        "id": "SfVCbnWOEFqS",
        "outputId": "1afe35f0-e425-4486-c33d-28a7caaf9e54"
      },
      "execution_count": null,
      "outputs": [
        {
          "output_type": "stream",
          "name": "stdout",
          "text": [
            "Accuracy Score Of Bagging(dt) is :  95.0\n"
          ]
        }
      ]
    },
    {
      "cell_type": "code",
      "source": [
        "rfc = RandomForestClassifier(n_estimators=500, random_state=42)\n",
        "rfc.fit(X_train, y_train)\n",
        "\n",
        "y_pred_rfc = rfc.predict(X_test)\n",
        "score_rfc = accuracy_score(y_test, y_pred_rfc)\n",
        "print(\"Accuracy Score Of Random Forest is : \",round((score_rfc)*100,2))"
      ],
      "metadata": {
        "colab": {
          "base_uri": "https://localhost:8080/"
        },
        "id": "xZyD16TIFKpE",
        "outputId": "8f5f9a68-7ec5-41aa-c0a9-348b32e3dd22"
      },
      "execution_count": null,
      "outputs": [
        {
          "output_type": "stream",
          "name": "stdout",
          "text": [
            "Accuracy Score Of Random Forest is :  95.3\n"
          ]
        }
      ]
    },
    {
      "cell_type": "code",
      "source": [
        "Bagging = BaggingClassifier(estimator=SVC(), n_estimators=500, random_state=42,bootstrap=True,max_samples=0.5)\n",
        "Bagging.fit(X_train, y_train)\n",
        "\n",
        "y_pred_bagging_svm = Bagging.predict(X_test)\n",
        "score_bagging_svm = accuracy_score(y_test, y_pred_bagging_svm)\n",
        "print(\"Accuracy Score Of Bagging(svm) is : \",round((score_bagging_svm)*100,2))\n"
      ],
      "metadata": {
        "colab": {
          "base_uri": "https://localhost:8080/"
        },
        "id": "yx8AmZZzF_vZ",
        "outputId": "ca558028-4a00-4aa1-b9ec-787089aaa94d"
      },
      "execution_count": null,
      "outputs": [
        {
          "output_type": "stream",
          "name": "stdout",
          "text": [
            "Accuracy Score Of Bagging(dt) is :  91.9\n"
          ]
        }
      ]
    },
    {
      "cell_type": "code",
      "source": [
        "pasting = BaggingClassifier(estimator=DecisionTreeClassifier(), n_estimators=500, random_state=42,bootstrap=False,max_samples=0.5)\n",
        "Bagging.fit(X_train, y_train)\n",
        "\n",
        "y_pred_bagging_paste = Bagging.predict(X_test)\n",
        "score_bagging_paste = accuracy_score(y_test, y_pred_bagging_paste)\n",
        "print(\"Accuracy Score Of Bagging(dt) is : \",round((score_bagging_paste)*100,2))\n"
      ],
      "metadata": {
        "colab": {
          "base_uri": "https://localhost:8080/"
        },
        "id": "YfXl9pSzGiC9",
        "outputId": "df3d68ab-cd2f-4db5-bc32-4260d2255931"
      },
      "execution_count": null,
      "outputs": [
        {
          "output_type": "stream",
          "name": "stdout",
          "text": [
            "Accuracy Score Of Bagging(dt) is :  91.9\n"
          ]
        }
      ]
    },
    {
      "cell_type": "markdown",
      "source": [
        "Key Takeways - :\n",
        "\n",
        "- Random Forest is getting More Acuracy than Bagging ,Bagging getting more accuracy than DesicionTree\n",
        "-Samples with 25% to 50% is Getting good Results\n",
        "-To make Better accuracy we have to use hyper parameter optimizaation\n"
      ],
      "metadata": {
        "id": "4TN0pcJQH8Zq"
      }
    },
    {
      "cell_type": "code",
      "source": [],
      "metadata": {
        "id": "Tm4CF4PCHbhJ"
      },
      "execution_count": null,
      "outputs": []
    }
  ]
}
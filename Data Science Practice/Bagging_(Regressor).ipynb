{
  "nbformat": 4,
  "nbformat_minor": 0,
  "metadata": {
    "colab": {
      "provenance": []
    },
    "kernelspec": {
      "name": "python3",
      "display_name": "Python 3"
    },
    "language_info": {
      "name": "python"
    }
  },
  "cells": [
    {
      "cell_type": "code",
      "execution_count": null,
      "metadata": {
        "id": "Lnodn8d2B6I3"
      },
      "outputs": [],
      "source": [
        "import pandas as pd\n",
        "import numpy as np\n",
        "import matplotlib.pyplot as plt\n",
        "from sklearn.model_selection import train_test_split\n",
        "from sklearn.tree import DecisionTreeRegressor\n",
        "from sklearn.metrics import r2_score,mean_squared_error,mean_absolute_error\n",
        "from sklearn.ensemble import RandomForestRegressor\n",
        "from sklearn.ensemble import BaggingRegressor\n",
        "from sklearn.svm import SVR\n",
        "from sklearn.datasets import make_regression"
      ]
    },
    {
      "cell_type": "code",
      "source": [
        "X, y = make_regression(n_samples=10000, n_features=10,\n",
        "                           n_informative=3,\n",
        "                           random_state=42)\n"
      ],
      "metadata": {
        "id": "xXjncgAgCqM3"
      },
      "execution_count": null,
      "outputs": []
    },
    {
      "cell_type": "code",
      "source": [
        "X_train, X_test, y_train, y_test = train_test_split(X, y, test_size=0.2, random_state=42)"
      ],
      "metadata": {
        "id": "3d6ht-tTDFda"
      },
      "execution_count": null,
      "outputs": []
    },
    {
      "cell_type": "code",
      "source": [
        "# from sklearn.preprocessing import StandardScaler\n",
        "# scaler = StandardScaler()\n",
        "# X_train_sc = scaler.fit_transform(X_train)\n",
        "# X_test_sc = scaler.transform(X_test)"
      ],
      "metadata": {
        "id": "NfZsA381DIv3"
      },
      "execution_count": null,
      "outputs": []
    },
    {
      "cell_type": "code",
      "source": [
        "model_dt = DecisionTreeRegressor()\n",
        "model_dt.fit(X_train, y_train)\n",
        "y_pred_dt = model_dt.predict(X_test)\n",
        "r2_score_dt = r2_score(y_test, y_pred_dt)\n",
        "MAE = mean_absolute_error(y_test, y_pred_dt)\n",
        "MSE = mean_squared_error(y_test, y_pred_dt)\n",
        "RMSE = np.sqrt(MSE)\n",
        "print(\"R2 Score Of Decision Tree is : \",r2_score_dt)\n",
        "print(\"MAE Of Decision Tree is : \",MAE)\n",
        "print(\"MSE Of Decision Tree is : \",MSE)\n",
        "print(\"RMSE Of Decision Tree is : \",RMSE)"
      ],
      "metadata": {
        "colab": {
          "base_uri": "https://localhost:8080/"
        },
        "id": "SRBrujhfDjHJ",
        "outputId": "b24d9f99-061b-432d-f8ec-0fa92b2240fe"
      },
      "execution_count": null,
      "outputs": [
        {
          "output_type": "stream",
          "name": "stdout",
          "text": [
            "R2 Score Of Decision Tree is :  0.9792901229744438\n",
            "MAE Of Decision Tree is :  7.868032105203304\n",
            "MSE Of Decision Tree is :  124.86106697601679\n",
            "RMSE Of Decision Tree is :  11.1741248863621\n"
          ]
        }
      ]
    },
    {
      "cell_type": "code",
      "source": [
        "Bagging = BaggingRegressor(estimator=DecisionTreeRegressor(), n_estimators=500, random_state=42,bootstrap=True,max_samples=0.5)\n",
        "Bagging.fit(X_train, y_train)\n",
        "\n",
        "y_pred_bagging = Bagging.predict(X_test)\n",
        "r2_score_dt = r2_score(y_test, y_pred_bagging)\n",
        "MAE = mean_absolute_error(y_test, y_pred_bagging)\n",
        "MSE = mean_squared_error(y_test, y_pred_bagging)\n",
        "RMSE = np.sqrt(MSE)\n",
        "print(\"R2 Score Of Decision Tree is : \",r2_score_dt)\n",
        "print(\"MAE Of Decision Tree is : \",MAE)\n",
        "print(\"MSE Of Decision Tree is : \",MSE)\n",
        "print(\"RMSE Of Decision Tree is : \",RMSE)\n"
      ],
      "metadata": {
        "colab": {
          "base_uri": "https://localhost:8080/"
        },
        "id": "SfVCbnWOEFqS",
        "outputId": "7c08297e-a9d6-4a35-bf58-a83e0bcc9b53"
      },
      "execution_count": null,
      "outputs": [
        {
          "output_type": "stream",
          "name": "stdout",
          "text": [
            "R2 Score Of Decision Tree is :  0.9932829253531062\n",
            "MAE Of Decision Tree is :  3.462525003191594\n",
            "MSE Of Decision Tree is :  40.497638220340015\n",
            "RMSE Of Decision Tree is :  6.363775469038801\n"
          ]
        }
      ]
    },
    {
      "cell_type": "code",
      "source": [
        "rfc = RandomForestRegressor(n_estimators=500, random_state=42)\n",
        "rfc.fit(X_train, y_train)\n",
        "\n",
        "y_pred_rfc = rfc.predict(X_test)\n",
        "r2_score_rfc = r2_score(y_test, y_pred_rfc)\n",
        "MAE = mean_absolute_error(y_test, y_pred_rfc)\n",
        "MSE = mean_squared_error(y_test, y_pred_rfc)\n",
        "RMSE = np.sqrt(MSE)\n",
        "print(\"R2 Score Of Decision Tree is : \",r2_score_dt)\n",
        "print(\"MAE Of Decision Tree is : \",MAE)\n",
        "print(\"MSE Of Decision Tree is : \",MSE)\n",
        "print(\"RMSE Of Decision Tree is : \",RMSE)"
      ],
      "metadata": {
        "colab": {
          "base_uri": "https://localhost:8080/"
        },
        "id": "xZyD16TIFKpE",
        "outputId": "390f71ae-a7a7-4070-d7b8-542448b5282f"
      },
      "execution_count": null,
      "outputs": [
        {
          "output_type": "stream",
          "name": "stdout",
          "text": [
            "R2 Score Of Decision Tree is :  0.9932829253531062\n",
            "MAE Of Decision Tree is :  3.207305516374582\n",
            "MSE Of Decision Tree is :  34.43907178484478\n",
            "RMSE Of Decision Tree is :  5.868481216195957\n"
          ]
        }
      ]
    },
    {
      "cell_type": "code",
      "source": [
        "Bagging = BaggingRegressor(estimator=SVR(), n_estimators=500, random_state=42,bootstrap=True,max_samples=0.5)\n",
        "Bagging.fit(X_train, y_train)\n",
        "\n",
        "y_pred_bagging_svm = Bagging.predict(X_test)\n",
        "r2_score_rfc = r2_score(y_test, y_pred_bagging_svm)\n",
        "MAE = mean_absolute_error(y_test, y_pred_bagging_svm)\n",
        "MSE = mean_squared_error(y_test, y_pred_bagging_svm)\n",
        "RMSE = np.sqrt(MSE)\n",
        "print(\"R2 Score Of Decision Tree is : \",r2_score_dt)\n",
        "print(\"MAE Of Decision Tree is : \",MAE)\n",
        "print(\"MSE Of Decision Tree is : \",MSE)\n",
        "print(\"RMSE Of Decision Tree is : \",RMSE)\n"
      ],
      "metadata": {
        "colab": {
          "base_uri": "https://localhost:8080/"
        },
        "id": "yx8AmZZzF_vZ",
        "outputId": "d1a4a355-3396-4d3b-dbbd-2e2d3b4555b1"
      },
      "execution_count": null,
      "outputs": [
        {
          "output_type": "stream",
          "name": "stdout",
          "text": [
            "R2 Score Of Decision Tree is :  0.9932829253531062\n",
            "MAE Of Decision Tree is :  19.316102279580278\n",
            "MSE Of Decision Tree is :  1002.8053692929503\n",
            "RMSE Of Decision Tree is :  31.66710231917266\n"
          ]
        }
      ]
    },
    {
      "cell_type": "code",
      "source": [
        "pasting = BaggingRegressor(estimator=DecisionTreeRegressor(), n_estimators=500, random_state=42,bootstrap=False,max_samples=0.5)\n",
        "pasting.fit(X_train, y_train)\n",
        "\n",
        "y_pred_bagging_paste = pasting.predict(X_test)\n",
        "r2_score_rfc = r2_score(y_test, y_pred_bagging_paste)\n",
        "MAE = mean_absolute_error(y_test, y_pred_bagging_paste)\n",
        "MSE = mean_squared_error(y_test, y_pred_bagging_paste)\n",
        "RMSE = np.sqrt(MSE)\n",
        "print(\"R2 Score Of Decision Tree is : \",r2_score_dt)\n",
        "print(\"MAE Of Decision Tree is : \",MAE)\n",
        "print(\"MSE Of Decision Tree is : \",MSE)\n",
        "print(\"RMSE Of Decision Tree is : \",RMSE)\n"
      ],
      "metadata": {
        "colab": {
          "base_uri": "https://localhost:8080/"
        },
        "id": "YfXl9pSzGiC9",
        "outputId": "18483d39-d1aa-4826-9366-8395c9c56b8e"
      },
      "execution_count": null,
      "outputs": [
        {
          "output_type": "stream",
          "name": "stdout",
          "text": [
            "R2 Score Of Decision Tree is :  0.9932829253531062\n",
            "MAE Of Decision Tree is :  3.446102253065229\n",
            "MSE Of Decision Tree is :  38.5448244641207\n",
            "RMSE Of Decision Tree is :  6.208447830506486\n"
          ]
        }
      ]
    },
    {
      "cell_type": "markdown",
      "source": [
        "Key Takeways - :\n",
        "\n",
        "- Random Forest is getting More Acuracy than Bagging ,Bagging getting more accuracy than DesicionTree\n",
        "-Samples with 25% to 50% is Getting good Results\n",
        "-To make Better accuracy we have to use hyper parameter optimizaation\n"
      ],
      "metadata": {
        "id": "4TN0pcJQH8Zq"
      }
    },
    {
      "cell_type": "code",
      "source": [],
      "metadata": {
        "id": "Tm4CF4PCHbhJ"
      },
      "execution_count": null,
      "outputs": []
    }
  ]
}